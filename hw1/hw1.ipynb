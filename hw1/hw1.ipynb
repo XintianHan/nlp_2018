{
 "cells": [
  {
   "cell_type": "code",
   "execution_count": 5,
   "metadata": {},
   "outputs": [],
   "source": [
    "from os import listdir\n",
    "# load doc into memory\n",
    "def load_doc(filename):\n",
    "    # open the file as read only\n",
    "    file = open(filename, 'r')\n",
    "    # read all text\n",
    "    text = file.read()\n",
    "    # close the file\n",
    "    file.close()\n",
    "    return text\n",
    "# specify directory to load\n",
    "directory_train_neg = '/Users/hanxintian/Downloads/nlP/aclImdb/train/neg'\n",
    "directory_train_pos = '/Users/hanxintian/Downloads/nlP/aclImdb/train/pos'\n",
    "directory_test_pos = '/Users/hanxintian/Downloads/nlP/aclImdb/test/pos'\n",
    "directory_test_neg = '/Users/hanxintian/Downloads/nlP/aclImdb/test/neg'\n",
    "doc_train_pos = []\n",
    "doc_train_neg = []\n",
    "doc_test_pos = []\n",
    "doc_test_neg = []\n",
    "for filename in listdir(directory_train_neg):\n",
    "    # create the full path of the file to open\n",
    "    path = directory_train_neg + '/' + filename\n",
    "    # load document\n",
    "    doc = load_doc(path)\n",
    "    doc_train_neg.append(doc)\n",
    "for filename in listdir(directory_train_pos):\n",
    "    # create the full path of the file to open\n",
    "    path = directory_train_pos + '/' + filename\n",
    "    # load document\n",
    "    doc = load_doc(path)\n",
    "    doc_train_pos.append(doc)\n",
    "    \n",
    "for filename in listdir(directory_test_neg):\n",
    "    # create the full path of the file to open\n",
    "    path = directory_test_neg + '/' + filename\n",
    "    # load document\n",
    "    doc = load_doc(path)\n",
    "    doc_test_neg.append(doc)\n",
    "\n",
    "for filename in listdir(directory_test_pos):\n",
    "    # create the full path of the file to open\n",
    "    path = directory_test_pos + '/' + filename\n",
    "    # load document\n",
    "    doc = load_doc(path)\n",
    "    doc_test_pos.append(doc)"
   ]
  },
  {
   "cell_type": "code",
   "execution_count": 6,
   "metadata": {},
   "outputs": [
    {
     "data": {
      "text/plain": [
       "12500"
      ]
     },
     "execution_count": 6,
     "metadata": {},
     "output_type": "execute_result"
    }
   ],
   "source": [
    "# use 20000 data as train and 5000 as valid\n",
    "train_data = doc_train_neg[:20000].append(doc_train_pos[:20000])\n",
    "valid_data = doc_test"
   ]
  },
  {
   "cell_type": "code",
   "execution_count": null,
   "metadata": {},
   "outputs": [],
   "source": []
  }
 ],
 "metadata": {
  "kernelspec": {
   "display_name": "Python 3",
   "language": "python",
   "name": "python3"
  },
  "language_info": {
   "codemirror_mode": {
    "name": "ipython",
    "version": 3
   },
   "file_extension": ".py",
   "mimetype": "text/x-python",
   "name": "python",
   "nbconvert_exporter": "python",
   "pygments_lexer": "ipython3",
   "version": "3.6.3"
  }
 },
 "nbformat": 4,
 "nbformat_minor": 2
}
